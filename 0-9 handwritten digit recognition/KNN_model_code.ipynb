{
 "cells": [
  {
   "cell_type": "code",
   "execution_count": 1,
   "metadata": {},
   "outputs": [
    {
     "name": "stderr",
     "output_type": "stream",
     "text": [
      "C:\\Users\\user\\anaconda3\\Lib\\site-packages\\sklearn\\datasets\\_openml.py:968: FutureWarning: The default value of `parser` will change from `'liac-arff'` to `'auto'` in 1.4. You can set `parser='auto'` to silence this warning. Therefore, an `ImportError` will be raised from 1.4 if the dataset is dense and pandas is not installed. Note that the pandas parser may return different data types. See the Notes Section in fetch_openml's API doc for details.\n",
      "  warn(\n"
     ]
    }
   ],
   "source": [
    "import numpy as np\n",
    "from sklearn.datasets import fetch_openml\n",
    "from sklearn.model_selection import train_test_split\n",
    "from sklearn.neighbors import KNeighborsClassifier\n",
    "from sklearn.metrics import accuracy_score\n",
    "\n",
    "# Load MNIST dataset\n",
    "mnist = fetch_openml('mnist_784')\n",
    "X = mnist.data\n",
    "y = mnist.target"
   ]
  },
  {
   "cell_type": "code",
   "execution_count": 8,
   "metadata": {},
   "outputs": [
    {
     "data": {
      "text/plain": [
       "(70000,)"
      ]
     },
     "execution_count": 8,
     "metadata": {},
     "output_type": "execute_result"
    }
   ],
   "source": [
    "# print(X.head())\n",
    "y.shape"
   ]
  },
  {
   "cell_type": "markdown",
   "metadata": {},
   "source": [
    "# (a) Modified the code so that it uses L1-distance instead of the default\n",
    "# L2-distance (Euleadean). (b) K value that gives better performance?\n",
    "# (c) Reported the Accuracy and (d) Displayed results by showing the image, actual\n",
    "# label, and predicted label. Hence found a few samples where the predicted label\n",
    "# is incorrect."
   ]
  },
  {
   "cell_type": "code",
   "execution_count": 3,
   "metadata": {},
   "outputs": [],
   "source": [
    "#a) To note that above accuracy decreased to 0.965 when I changed the parameter to p=1 from p=2(default),which used L1 distance\n",
    "# instead of L2 distance.\n",
    "# (b) Find out the K that gives better performance.: K=3 gives teh best result.\n",
    "# (c) Report the Accuracy: For k=3,the accuracy is 0.9661428571428572"
   ]
  },
  {
   "cell_type": "code",
   "execution_count": 5,
   "metadata": {
    "colab": {
     "base_uri": "https://localhost:8080/"
    },
    "id": "DL4V6hX-yAcN",
    "outputId": "7e819b9b-600d-46f8-c92f-1676bfb78ffb"
   },
   "outputs": [
    {
     "name": "stdout",
     "output_type": "stream",
     "text": [
      "Accuracy for neighbor:9: 0.9605\n",
      "Accuracy for neighbor:10: 0.9588571428571429\n",
      "Accuracy for neighbor:11: 0.9599285714285715\n",
      "Accuracy for neighbor:12: 0.9578571428571429\n",
      "Accuracy for neighbor:13: 0.9575\n",
      "Accuracy for neighbor:14: 0.9570714285714286\n",
      "Accuracy for neighbor:15: 0.9563571428571429\n"
     ]
    }
   ],
   "source": [
    "# Split dataset into training and testing sets\n",
    "X_train, X_test, y_train, y_test = train_test_split(X, y, test_size=0.2, random_state=42)\n",
    "\n",
    "# Create a KNN classifier with different K's\n",
    "# for i in range(1,10,1):\n",
    "for i in range(9,16,1):\n",
    "    knn_classifier = KNeighborsClassifier(n_neighbors=i,p=1)\n",
    "\n",
    "    # Train the classifier on the training data\n",
    "    knn_classifier.fit(X_train, y_train)\n",
    "\n",
    "    # Predict the labels for the test data\n",
    "    y_pred = knn_classifier.predict(X_test)\n",
    "\n",
    "    # Calculate the accuracy of the model\n",
    "    accuracy = accuracy_score(y_test, y_pred)\n",
    "    print(f\"Accuracy for neighbor:{i}:\", accuracy)"
   ]
  },
  {
   "cell_type": "code",
   "execution_count": 118,
   "metadata": {},
   "outputs": [],
   "source": [
    "# Accuracy for neighbor:1: 0.9657142857142857\n",
    "# Accuracy for neighbor:2: 0.9561428571428572\n",
    "# Accuracy for neighbor:3: 0.9661428571428572\n",
    "# Accuracy for neighbor:4: 0.9625\n",
    "# Accuracy for neighbor:5: 0.965\n",
    "# Accuracy for neighbor:6: 0.9611428571428572\n",
    "# Accuracy for neighbor:7: 0.962\n",
    "# Accuracy for neighbor:8: 0.9613571428571429\n",
    "# Accuracy for neighbor:9: 0.9605\n",
    "# Accuracy for neighbor:10: 0.9588571428571429\n",
    "# Accuracy for neighbor:11: 0.9599285714285715\n",
    "# Accuracy for neighbor:12: 0.9578571428571429\n",
    "# Accuracy for neighbor:13: 0.9575\n",
    "# Accuracy for neighbor:14: 0.9570714285714286\n",
    "# Accuracy for neighbor:15: 0.9563571428571429\n"
   ]
  },
  {
   "cell_type": "code",
   "execution_count": 3,
   "metadata": {},
   "outputs": [
    {
     "name": "stdout",
     "output_type": "stream",
     "text": [
      "Accuracy for neighbor,3 : 0.9661\n"
     ]
    }
   ],
   "source": [
    "X_train, X_test, y_train, y_test = train_test_split(X, y, test_size=0.2, random_state=42)\n",
    "\n",
    "# Create a KNN classifier with different K=3(as it has best accuracy based on above code performance)\n",
    "knn_classifier = KNeighborsClassifier(n_neighbors=3,p=1)\n",
    "\n",
    "# Train the classifier on the training data\n",
    "knn_classifier.fit(X_train, y_train)\n",
    "\n",
    "# Predict the labels for the test data\n",
    "y_pred = knn_classifier.predict(X_test)\n",
    "\n",
    "# Calculate the accuracy of the model\n",
    "accuracy = accuracy_score(y_test, y_pred)\n",
    "print(\"Accuracy for neighbor,3 : %.4f\" %accuracy)"
   ]
  },
  {
   "cell_type": "code",
   "execution_count": 128,
   "metadata": {},
   "outputs": [
    {
     "name": "stdout",
     "output_type": "stream",
     "text": [
      "(14000, 784)\n",
      "Random list of index:\t[3487, 4004, 2303, 13810, 368, 3205, 5100, 6988, 6820]\n"
     ]
    },
    {
     "data": {
      "image/png": "[encoded data removed]",
      "text/plain": [
       "<Figure size 1000x1000 with 9 Axes>"
      ]
     },
     "metadata": {},
     "output_type": "display_data"
    }
   ],
   "source": [
    "# To Display Images and Predicted Labels \n",
    "import matplotlib.pyplot as plt\n",
    "# Randomly pick an index\n",
    "\n",
    "# print(random_index)\n",
    "print(X_test.shape)\n",
    "random = []\n",
    "for z in range(9):\n",
    "    random.append(np.random.randint(0,len(X_test)))\n",
    "    X_test=np.array(X_test)\n",
    "print(f\"Random list of index:\\t{random}\")\n",
    "# Get the image data and label \n",
    "# Reshaped to 28 x 28 as total pix 784\n",
    "\n",
    "fig,ax = plt.subplots(3,3,figsize=(10,10))\n",
    "i = 0\n",
    "for j in range(3):\n",
    "    for k in range(3):\n",
    "        \n",
    "        image = X_test[random[i],:].reshape(28,28)\n",
    "        label = y_pred[random[i]]\n",
    "        ax[j][k].imshow(image, cmap='gray')\n",
    "        ax[j][k].set_title(f\"Label: {label}\")\n",
    "        ax[j][k].axis('off')\n",
    "        i = i+1\n",
    "\n"
   ]
  },
  {
   "cell_type": "code",
   "execution_count": 123,
   "metadata": {},
   "outputs": [
    {
     "data": {
      "image/png": "[encoded data removed]",
      "text/plain": [
       "<Figure size 800x800 with 4 Axes>"
      ]
     },
     "metadata": {},
     "output_type": "display_data"
    }
   ],
   "source": [
    "# Find out a few samples where the predicted label is incorrect(MISCLASSIFIED)\n",
    "mismatch_label_index = []\n",
    "for i in range(len(y_test)):\n",
    "    if((y_pred[i]) != (y_test.iloc[i])):\n",
    "        mismatch_label_index.append(i)\n",
    "\n",
    "fig, ax = plt.subplots(2,2,figsize=(8,8))\n",
    "z = 0\n",
    "for a in range(2):\n",
    "    for b in range(2):\n",
    "        image = X_test[mismatch_label_index[z],:].reshape(28,28)\n",
    "        label = y_pred[mismatch_label_index[z]]\n",
    "        ax[a][b].imshow(image, cmap='gray')\n",
    "        ax[a][b].set_title(f\"Label: {label}\")\n",
    "        ax[a][b].axis('off')\n",
    "        z+=1\n",
    "\n",
    "# ***********************INCASE WE WANT RANDOM VALUES TO DETECT THE MISCLASSIFICATION:*********************\n",
    "# mismatch_label_index = []\n",
    "# for i in range(len(y_test)):\n",
    "#     if((y_pred[i]) != (y_test.iloc[i])):\n",
    "#         mismatch_label_index.append(i)\n",
    "\n",
    "# fig, ax = plt.subplots(2,2,figsize=(8,8))\n",
    "# z = 0\n",
    "# for a in range(2):\n",
    "#     for b in range(2):\n",
    "#         r_indx = np.random.randint(0,len(mismatch_label_index))\n",
    "#         image = X_test[mismatch_label_index[r_indx],:].reshape(28,28)\n",
    "#         label = y_pred[mismatch_label_index[r_indx]]\n",
    "#         ax[a][b].imshow(image, cmap='gray')\n",
    "#         ax[a][b].set_title(f\"Label: {label}\")\n",
    "#         ax[a][b].axis('off')"
   ]
  }
 ],
 "metadata": {
  "colab": {
   "provenance": []
  },
  "kernelspec": {
   "display_name": "Python 3 (ipykernel)",
   "language": "python",
   "name": "python3"
  },
  "language_info": {
   "codemirror_mode": {
    "name": "ipython",
    "version": 3
   },
   "file_extension": ".py",
   "mimetype": "text/x-python",
   "name": "python",
   "nbconvert_exporter": "python",
   "pygments_lexer": "ipython3",
   "version": "3.11.3"
  }
 },
 "nbformat": 4,
 "nbformat_minor": 1
}
