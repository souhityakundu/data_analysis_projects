{
 "cells": [
  {
   "cell_type": "code",
   "execution_count": 1,
   "id": "adde97d7",
   "metadata": {},
   "outputs": [],
   "source": [
    "import pandas as pd\n",
    "import matplotlib.pyplot as plt\n",
    "import seaborn as sns\n",
    "from pandas_profiling import ProfileReport\n",
    "import numpy as np"
   ]
  },
  {
   "cell_type": "code",
   "execution_count": 2,
   "id": "db52920c",
   "metadata": {},
   "outputs": [
    {
     "data": {
      "text/html": [
       "<div>\n",
       "<style scoped>\n",
       "    .dataframe tbody tr th:only-of-type {\n",
       "        vertical-align: middle;\n",
       "    }\n",
       "\n",
       "    .dataframe tbody tr th {\n",
       "        vertical-align: top;\n",
       "    }\n",
       "\n",
       "    .dataframe thead th {\n",
       "        text-align: right;\n",
       "    }\n",
       "</style>\n",
       "<table border=\"1\" class=\"dataframe\">\n",
       "  <thead>\n",
       "    <tr style=\"text-align: right;\">\n",
       "      <th></th>\n",
       "      <th>rp(A)</th>\n",
       "      <th>fof_Na</th>\n",
       "      <th>fof_Cl</th>\n",
       "      <th>(fof_Na+fof_Cl)/2</th>\n",
       "      <th>fof_Ow</th>\n",
       "    </tr>\n",
       "  </thead>\n",
       "  <tbody>\n",
       "    <tr>\n",
       "      <th>0</th>\n",
       "      <td>0.0</td>\n",
       "      <td>1.0</td>\n",
       "      <td>1.0</td>\n",
       "      <td>1.0</td>\n",
       "      <td>1.0</td>\n",
       "    </tr>\n",
       "    <tr>\n",
       "      <th>1</th>\n",
       "      <td>0.1</td>\n",
       "      <td>1.0</td>\n",
       "      <td>1.0</td>\n",
       "      <td>1.0</td>\n",
       "      <td>1.0</td>\n",
       "    </tr>\n",
       "    <tr>\n",
       "      <th>2</th>\n",
       "      <td>0.2</td>\n",
       "      <td>1.0</td>\n",
       "      <td>1.0</td>\n",
       "      <td>1.0</td>\n",
       "      <td>1.0</td>\n",
       "    </tr>\n",
       "    <tr>\n",
       "      <th>3</th>\n",
       "      <td>0.3</td>\n",
       "      <td>1.0</td>\n",
       "      <td>1.0</td>\n",
       "      <td>1.0</td>\n",
       "      <td>1.0</td>\n",
       "    </tr>\n",
       "    <tr>\n",
       "      <th>4</th>\n",
       "      <td>0.4</td>\n",
       "      <td>1.0</td>\n",
       "      <td>1.0</td>\n",
       "      <td>1.0</td>\n",
       "      <td>1.0</td>\n",
       "    </tr>\n",
       "  </tbody>\n",
       "</table>\n",
       "</div>"
      ],
      "text/plain": [
       "   rp(A)  fof_Na  fof_Cl  (fof_Na+fof_Cl)/2  fof_Ow\n",
       "0    0.0     1.0     1.0                1.0     1.0\n",
       "1    0.1     1.0     1.0                1.0     1.0\n",
       "2    0.2     1.0     1.0                1.0     1.0\n",
       "3    0.3     1.0     1.0                1.0     1.0\n",
       "4    0.4     1.0     1.0                1.0     1.0"
      ]
     },
     "execution_count": 2,
     "metadata": {},
     "output_type": "execute_result"
    }
   ],
   "source": [
    "df = pd.read_csv(\"../15wt.csv\")\n",
    "df.head()"
   ]
  },
  {
   "cell_type": "code",
   "execution_count": 3,
   "id": "6458111a",
   "metadata": {},
   "outputs": [
    {
     "data": {
      "text/plain": [
       "rp(A)                1.000000\n",
       "fof_Na              -0.911545\n",
       "fof_Cl              -0.910805\n",
       "(fof_Na+fof_Cl)/2   -0.911439\n",
       "fof_Ow              -0.907290\n",
       "Name: rp(A), dtype: float64"
      ]
     },
     "execution_count": 3,
     "metadata": {},
     "output_type": "execute_result"
    }
   ],
   "source": [
    "df.corr()[\"rp(A)\"]"
   ]
  },
  {
   "cell_type": "code",
   "execution_count": 4,
   "id": "c5e9c18c",
   "metadata": {},
   "outputs": [
    {
     "data": {
      "application/vnd.jupyter.widget-view+json": {
       "model_id": "f74fb7473e7e4727897e9c574ae2db93",
       "version_major": 2,
       "version_minor": 0
      },
      "text/plain": [
       "Summarize dataset:   0%|          | 0/5 [00:00<?, ?it/s]"
      ]
     },
     "metadata": {},
     "output_type": "display_data"
    },
    {
     "data": {
      "application/vnd.jupyter.widget-view+json": {
       "model_id": "38965c018d62411fae8aa5ddccc4b6e6",
       "version_major": 2,
       "version_minor": 0
      },
      "text/plain": [
       "Generate report structure:   0%|          | 0/1 [00:00<?, ?it/s]"
      ]
     },
     "metadata": {},
     "output_type": "display_data"
    },
    {
     "data": {
      "application/vnd.jupyter.widget-view+json": {
       "model_id": "c919fb4d04b14f78ac8c2841a3d0e534",
       "version_major": 2,
       "version_minor": 0
      },
      "text/plain": [
       "Render HTML:   0%|          | 0/1 [00:00<?, ?it/s]"
      ]
     },
     "metadata": {},
     "output_type": "display_data"
    },
    {
     "data": {
      "application/vnd.jupyter.widget-view+json": {
       "model_id": "b9e0a5d860d84307aec61321cedd855e",
       "version_major": 2,
       "version_minor": 0
      },
      "text/plain": [
       "Export report to file:   0%|          | 0/1 [00:00<?, ?it/s]"
      ]
     },
     "metadata": {},
     "output_type": "display_data"
    }
   ],
   "source": [
    "prof=ProfileReport(df)\n",
    "prof.to_file(output_file=\"15wt%.html\")"
   ]
  },
  {
   "cell_type": "code",
   "execution_count": 5,
   "id": "e5d65753",
   "metadata": {},
   "outputs": [],
   "source": [
    "from sklearn.model_selection import train_test_split\n",
    "from sklearn.linear_model import LinearRegression"
   ]
  },
  {
   "cell_type": "code",
   "execution_count": 6,
   "id": "858b5f9f",
   "metadata": {},
   "outputs": [
    {
     "data": {
      "text/plain": [
       "<bound method NDFrame.head of      rp(A)  fof_Na  fof_Cl  (fof_Na+fof_Cl)/2\n",
       "51     5.1   1.000   1.000              1.000\n",
       "35     3.5   1.000   1.000              1.000\n",
       "118   11.8   0.903   0.903              0.903\n",
       "60     6.0   1.000   1.000              1.000\n",
       "161   16.1   0.795   0.805              0.800\n",
       "..     ...     ...     ...                ...\n",
       "106   10.6   0.935   0.946              0.941\n",
       "14     1.4   1.000   1.000              1.000\n",
       "92     9.2   1.000   1.000              1.000\n",
       "179   17.9   0.773   0.773              0.773\n",
       "102   10.2   0.968   0.968              0.968\n",
       "\n",
       "[152 rows x 4 columns]>"
      ]
     },
     "execution_count": 6,
     "metadata": {},
     "output_type": "execute_result"
    }
   ],
   "source": [
    "X_train,X_test,y_train,y_test=train_test_split(df.iloc[:,0:4],df[\"fof_Ow\"],test_size=0.2,random_state=42)\n",
    "X_train.head"
   ]
  },
  {
   "cell_type": "code",
   "execution_count": 7,
   "id": "60a0f12b",
   "metadata": {},
   "outputs": [],
   "source": [
    "lr = LinearRegression()"
   ]
  },
  {
   "cell_type": "code",
   "execution_count": 8,
   "id": "a3322350",
   "metadata": {},
   "outputs": [
    {
     "data": {
      "text/plain": [
       "LinearRegression()"
      ]
     },
     "execution_count": 8,
     "metadata": {},
     "output_type": "execute_result"
    }
   ],
   "source": [
    "lr.fit(X_train,y_train)"
   ]
  },
  {
   "cell_type": "code",
   "execution_count": 9,
   "id": "0d7bfb30",
   "metadata": {},
   "outputs": [
    {
     "data": {
      "text/plain": [
       "array([0.63084762, 0.64688675, 0.87784368, 1.00199439, 0.96839753,\n",
       "       1.00139534, 1.00132345, 1.00140732, 0.75307237, 0.82342368,\n",
       "       0.86935226, 1.00235381, 1.00143128, 0.67528119, 1.00223401,\n",
       "       0.84349443, 0.93190666, 1.00200637, 1.00188656, 1.00171882,\n",
       "       1.00157505, 1.00150317, 0.68576322, 1.00237778, 1.00203033,\n",
       "       0.82345962, 0.82548142, 1.00144326, 1.00175477, 1.0021142 ,\n",
       "       0.64674298, 1.00201835, 1.00127553, 0.79214053, 0.64675496,\n",
       "       0.6752692 , 1.00215014, 0.86991498])"
      ]
     },
     "execution_count": 9,
     "metadata": {},
     "output_type": "execute_result"
    }
   ],
   "source": [
    "pred = lr.predict(X_test)\n",
    "pred"
   ]
  },
  {
   "cell_type": "code",
   "execution_count": 11,
   "id": "461737b6",
   "metadata": {},
   "outputs": [
    {
     "name": "stdout",
     "output_type": "stream",
     "text": [
      "99.43 %\n"
     ]
    }
   ],
   "source": [
    "z=lr.score(X_test,y_test)\n",
    "z=100*z\n",
    "print(\"%0.2f\"%z,\"%\")"
   ]
  },
  {
   "cell_type": "code",
   "execution_count": null,
   "id": "2c93d52d",
   "metadata": {},
   "outputs": [],
   "source": []
  }
 ],
 "metadata": {
  "kernelspec": {
   "display_name": "Python 3",
   "language": "python",
   "name": "python3"
  },
  "language_info": {
   "codemirror_mode": {
    "name": "ipython",
    "version": 3
   },
   "file_extension": ".py",
   "mimetype": "text/x-python",
   "name": "python",
   "nbconvert_exporter": "python",
   "pygments_lexer": "ipython3",
   "version": "3.8.8"
  }
 },
 "nbformat": 4,
 "nbformat_minor": 5
}
