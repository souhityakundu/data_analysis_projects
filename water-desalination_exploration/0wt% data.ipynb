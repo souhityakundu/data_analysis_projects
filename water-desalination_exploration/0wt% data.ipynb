{
 "cells": [
  {
   "cell_type": "code",
   "execution_count": 1,
   "id": "53b0ec59",
   "metadata": {},
   "outputs": [],
   "source": [
    "import pandas as pd\n",
    "import matplotlib.pyplot as plt"
   ]
  },
  {
   "cell_type": "code",
   "execution_count": 2,
   "id": "5efca5a7",
   "metadata": {},
   "outputs": [],
   "source": [
    "df=pd.read_csv(\"0wt.csv\")"
   ]
  },
  {
   "cell_type": "code",
   "execution_count": 3,
   "id": "4722f960",
   "metadata": {},
   "outputs": [
    {
     "data": {
      "text/html": [
       "<div>\n",
       "<style scoped>\n",
       "    .dataframe tbody tr th:only-of-type {\n",
       "        vertical-align: middle;\n",
       "    }\n",
       "\n",
       "    .dataframe tbody tr th {\n",
       "        vertical-align: top;\n",
       "    }\n",
       "\n",
       "    .dataframe thead th {\n",
       "        text-align: right;\n",
       "    }\n",
       "</style>\n",
       "<table border=\"1\" class=\"dataframe\">\n",
       "  <thead>\n",
       "    <tr style=\"text-align: right;\">\n",
       "      <th></th>\n",
       "      <th>rp(A)</th>\n",
       "      <th>fof_Na</th>\n",
       "      <th>fof_Cl</th>\n",
       "      <th>(fof_Na+fof_Cl)/2</th>\n",
       "      <th>fof_Ow</th>\n",
       "    </tr>\n",
       "  </thead>\n",
       "  <tbody>\n",
       "    <tr>\n",
       "      <th>0</th>\n",
       "      <td>0.0</td>\n",
       "      <td>1.000</td>\n",
       "      <td>1.000</td>\n",
       "      <td>1.000</td>\n",
       "      <td>1.000</td>\n",
       "    </tr>\n",
       "    <tr>\n",
       "      <th>1</th>\n",
       "      <td>0.1</td>\n",
       "      <td>1.000</td>\n",
       "      <td>1.000</td>\n",
       "      <td>1.000</td>\n",
       "      <td>1.000</td>\n",
       "    </tr>\n",
       "    <tr>\n",
       "      <th>2</th>\n",
       "      <td>0.2</td>\n",
       "      <td>1.000</td>\n",
       "      <td>1.000</td>\n",
       "      <td>1.000</td>\n",
       "      <td>1.000</td>\n",
       "    </tr>\n",
       "    <tr>\n",
       "      <th>3</th>\n",
       "      <td>0.3</td>\n",
       "      <td>1.000</td>\n",
       "      <td>1.000</td>\n",
       "      <td>1.000</td>\n",
       "      <td>1.000</td>\n",
       "    </tr>\n",
       "    <tr>\n",
       "      <th>4</th>\n",
       "      <td>0.4</td>\n",
       "      <td>1.000</td>\n",
       "      <td>1.000</td>\n",
       "      <td>1.000</td>\n",
       "      <td>1.000</td>\n",
       "    </tr>\n",
       "    <tr>\n",
       "      <th>...</th>\n",
       "      <td>...</td>\n",
       "      <td>...</td>\n",
       "      <td>...</td>\n",
       "      <td>...</td>\n",
       "      <td>...</td>\n",
       "    </tr>\n",
       "    <tr>\n",
       "      <th>185</th>\n",
       "      <td>18.5</td>\n",
       "      <td>0.881</td>\n",
       "      <td>0.892</td>\n",
       "      <td>0.886</td>\n",
       "      <td>0.751</td>\n",
       "    </tr>\n",
       "    <tr>\n",
       "      <th>186</th>\n",
       "      <td>18.6</td>\n",
       "      <td>0.881</td>\n",
       "      <td>0.892</td>\n",
       "      <td>0.886</td>\n",
       "      <td>0.755</td>\n",
       "    </tr>\n",
       "    <tr>\n",
       "      <th>187</th>\n",
       "      <td>18.7</td>\n",
       "      <td>0.881</td>\n",
       "      <td>0.892</td>\n",
       "      <td>0.886</td>\n",
       "      <td>0.754</td>\n",
       "    </tr>\n",
       "    <tr>\n",
       "      <th>188</th>\n",
       "      <td>18.8</td>\n",
       "      <td>0.870</td>\n",
       "      <td>0.892</td>\n",
       "      <td>0.881</td>\n",
       "      <td>0.754</td>\n",
       "    </tr>\n",
       "    <tr>\n",
       "      <th>189</th>\n",
       "      <td>18.9</td>\n",
       "      <td>0.870</td>\n",
       "      <td>0.892</td>\n",
       "      <td>0.881</td>\n",
       "      <td>0.753</td>\n",
       "    </tr>\n",
       "  </tbody>\n",
       "</table>\n",
       "<p>190 rows × 5 columns</p>\n",
       "</div>"
      ],
      "text/plain": [
       "     rp(A)  fof_Na  fof_Cl  (fof_Na+fof_Cl)/2  fof_Ow\n",
       "0      0.0   1.000   1.000              1.000   1.000\n",
       "1      0.1   1.000   1.000              1.000   1.000\n",
       "2      0.2   1.000   1.000              1.000   1.000\n",
       "3      0.3   1.000   1.000              1.000   1.000\n",
       "4      0.4   1.000   1.000              1.000   1.000\n",
       "..     ...     ...     ...                ...     ...\n",
       "185   18.5   0.881   0.892              0.886   0.751\n",
       "186   18.6   0.881   0.892              0.886   0.755\n",
       "187   18.7   0.881   0.892              0.886   0.754\n",
       "188   18.8   0.870   0.892              0.881   0.754\n",
       "189   18.9   0.870   0.892              0.881   0.753\n",
       "\n",
       "[190 rows x 5 columns]"
      ]
     },
     "execution_count": 3,
     "metadata": {},
     "output_type": "execute_result"
    }
   ],
   "source": [
    "df"
   ]
  },
  {
   "cell_type": "code",
   "execution_count": 95,
   "id": "9489ccde",
   "metadata": {},
   "outputs": [
    {
     "data": {
      "image/png": "[encoded data removed]",
      "text/plain": [
       "<Figure size 720x576 with 1 Axes>"
      ]
     },
     "metadata": {
      "needs_background": "light"
     },
     "output_type": "display_data"
    }
   ],
   "source": [
    "# plt.rcParams[\"figure.figsize\"] = (10,8)\n",
    "plt.\n",
    "# plt.plot(df[\"rp(A)\"],df[\"fof_Ow\"],\"orange\",label=\"0wt%\")\n",
    "# plt.legend()\n",
    "plt.show()\n",
    "plt.scatter(df[df[\"fof_Ow\"]==1].iloc[:,0],df[df[\"fof_Ow\"]==1].iloc[:,-1],c=\"blue\")\n",
    "plt.scatter(df[df[\"fof_Ow\"]!=1].iloc[:,0],df[df[\"fof_Ow\"]!=1].iloc[:,-1],c=\"red\")\n",
    "plt.grid()\n",
    "plt.show()"
   ]
  },
  {
   "cell_type": "code",
   "execution_count": null,
   "id": "dbcf2be4",
   "metadata": {},
   "outputs": [],
   "source": []
  }
 ],
 "metadata": {
  "kernelspec": {
   "display_name": "Python 3",
   "language": "python",
   "name": "python3"
  },
  "language_info": {
   "codemirror_mode": {
    "name": "ipython",
    "version": 3
   },
   "file_extension": ".py",
   "mimetype": "text/x-python",
   "name": "python",
   "nbconvert_exporter": "python",
   "pygments_lexer": "ipython3",
   "version": "3.8.8"
  }
 },
 "nbformat": 4,
 "nbformat_minor": 5
}
